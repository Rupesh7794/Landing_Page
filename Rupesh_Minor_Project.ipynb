{
  "nbformat": 4,
  "nbformat_minor": 0,
  "metadata": {
    "colab": {
      "provenance": [],
      "include_colab_link": true
    },
    "kernelspec": {
      "name": "python3",
      "display_name": "Python 3"
    },
    "language_info": {
      "name": "python"
    }
  },
  "cells": [
    {
      "cell_type": "markdown",
      "metadata": {
        "id": "view-in-github",
        "colab_type": "text"
      },
      "source": [
        "<a href=\"https://colab.research.google.com/github/Rupesh7794/Landing_Page/blob/main/Rupesh_Minor_Project.ipynb\" target=\"_parent\"><img src=\"https://colab.research.google.com/assets/colab-badge.svg\" alt=\"Open In Colab\"/></a>"
      ]
    },
    {
      "cell_type": "code",
      "source": [
        "import re"
      ],
      "metadata": {
        "id": "jTtbE8QM97u1"
      },
      "execution_count": null,
      "outputs": []
    },
    {
      "cell_type": "code",
      "source": [
        "def Length(email):\n",
        "  return len(email)\n",
        "def Present(ch,email):\n",
        "  if ch in email:\n",
        "    return 1\n",
        "  else:\n",
        "    return 0\n",
        "def CharLocation(ch,email):\n",
        "  return email.find(ch)\n",
        "def Count(ch,email):\n",
        "  return email.count(ch)"
      ],
      "metadata": {
        "id": "yZawLKId2iYC"
      },
      "execution_count": null,
      "outputs": []
    },
    {
      "cell_type": "code",
      "source": [
        "def local_check(local):\n",
        "  local_ptr = r\"^(?![.])(?!.*[.]{2})[a-zA-Z0-9.!#$%&'*+/=?^_`{|}~-]+(?<![.])$\"\n",
        "  if re.match(local_ptr,local):\n",
        "    return 1\n",
        "  else:\n",
        "    return 0"
      ],
      "metadata": {
        "id": "opjc6f9P53QV"
      },
      "execution_count": null,
      "outputs": []
    },
    {
      "cell_type": "code",
      "source": [
        "def domain_check(domain):\n",
        "  domain_ptr=r'^[a-zA-Z0-9-]+\\.com$'\n",
        "  if re.match(domain_ptr,domain):\n",
        "    return 1\n",
        "  else:\n",
        "    return 0"
      ],
      "metadata": {
        "id": "AQXFo8MF93CC"
      },
      "execution_count": null,
      "outputs": []
    },
    {
      "cell_type": "code",
      "source": [
        "def Invesigate(email):\n",
        "  if not Length(email) > 256 and Present('@',email) and Count('@',email)==1:\n",
        "    if CharLocation('@',email)!=0:\n",
        "      local,domain = email.split('@')\n",
        "      local_status= local_check(local)\n",
        "      domain_status= domain_check(domain)\n",
        "      if local_status==1 and domain_status==1:\n",
        "        s=\"** Valid ** -- \"+ email\n",
        "        return s\n",
        "      else:\n",
        "        s=\"InValid -- \"+ email\n",
        "        return s\n",
        "    else:\n",
        "        s=\"InValid -- \"+ email\n",
        "        return s\n",
        "  else:\n",
        "    s=\"InValid -- \"+ email\n",
        "    return s"
      ],
      "metadata": {
        "id": "_L9y9EetvSy_"
      },
      "execution_count": null,
      "outputs": []
    },
    {
      "cell_type": "code",
      "source": [
        "file = open('/content/Sample_input.txt','r')\n",
        "for line in file:\n",
        "  print(Invesigate(line))"
      ],
      "metadata": {
        "colab": {
          "base_uri": "https://localhost:8080/"
        },
        "id": "FOYD_IVo7I1Z",
        "outputId": "eedc417e-0acd-41e0-ccb6-a98d2103141c"
      },
      "execution_count": null,
      "outputs": [
        {
          "output_type": "stream",
          "name": "stdout",
          "text": [
            "** Valid ** -- ethna@gmail.com\n",
            "\n",
            "** Valid ** -- susmi@gmail.com\n",
            "\n",
            "** Valid ** -- susmi_1@gmail.com\n",
            "\n",
            "** Valid ** -- 1_susmi@gmail.com\n",
            "\n",
            "InValid -- .ethna@gmail.com\n",
            "\n",
            "InValid -- @susmi@gmail.com\n",
            "\n",
            "InValid -- ethna@gmail,com\n",
            "\n",
            "InValid -- ethna@gmail.con\n",
            "\n",
            "** Valid ** -- email@example.com\n",
            "\n",
            "** Valid ** -- firstname.lastname@example.com\n",
            "\n",
            "InValid -- email@subdomain.example.com\n",
            "\n",
            "** Valid ** -- firstname+lastname@example.com\n",
            "\n",
            "InValid -- email@123.123.123.123\n",
            "\n",
            "InValid -- email@[123.123.123.123]\n",
            "\n",
            "InValid -- ethna@123.123.123\n",
            "\n",
            "InValid -- susmi@[123.123.123.123\n",
            "\n",
            "InValid -- ethna@192.27.230.255\n",
            "\n",
            "InValid -- ethna@193.23.0.256\n",
            "\n",
            "** Valid ** -- email@example-one.com\n",
            "\n",
            "InValid -- plainaddress\n",
            "\n",
            "InValid -- #@%^%#$@#$@#.com\n",
            "\n",
            "InValid -- @example.com\n",
            "\n",
            "InValid -- Joe Smith <email@example.com>\n",
            "\n",
            "InValid -- email.example.com\n",
            "\n",
            "InValid -- email@example@example.com\n",
            "\n",
            "InValid -- .email@example.com\n",
            "\n",
            "InValid -- email.@example.com\n",
            "\n",
            "InValid -- email..email@example.com\n",
            "\n",
            "InValid -- email@example\n",
            "\n",
            "** Valid ** -- email@-example.com\n",
            "\n",
            "InValid -- email@example.web\n",
            "\n",
            "InValid -- email@111.222.333.44444\n",
            "\n",
            "InValid -- email@example..com\n"
          ]
        }
      ]
    }
  ]
}